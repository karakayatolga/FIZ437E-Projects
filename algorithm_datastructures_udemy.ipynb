{
  "nbformat": 4,
  "nbformat_minor": 0,
  "metadata": {
    "colab": {
      "provenance": [],
      "authorship_tag": "ABX9TyPNEXsXkyrbnHHUAQnnUbXX",
      "include_colab_link": true
    },
    "kernelspec": {
      "name": "python3",
      "display_name": "Python 3"
    },
    "language_info": {
      "name": "python"
    }
  },
  "cells": [
    {
      "cell_type": "markdown",
      "metadata": {
        "id": "view-in-github",
        "colab_type": "text"
      },
      "source": [
        "<a href=\"https://colab.research.google.com/github/karakayatolga/FIZ437E-Projects/blob/main/algorithm_datastructures_udemy.ipynb\" target=\"_parent\"><img src=\"https://colab.research.google.com/assets/colab-badge.svg\" alt=\"Open In Colab\"/></a>"
      ]
    },
    {
      "cell_type": "code",
      "execution_count": 1,
      "metadata": {
        "id": "-3wteZlvwyTW"
      },
      "outputs": [],
      "source": [
        "class Node:\n",
        "\n",
        "  def __init__(self, value):\n",
        "    self.value = value\n",
        "    self.next = None\n",
        "\n",
        "\n",
        "class LinkedList:\n",
        "\n",
        "  def __init__(self, value):\n",
        "    new_node = Node(value)\n",
        "    self.head = new_node\n",
        "    self.tail = new_node\n",
        "    self.length = 1\n",
        "\n",
        "  def print_list(self):\n",
        "    temp = self.head\n",
        "    while temp is not None:\n",
        "      print(temp.value)\n",
        "      temp = temp.next\n",
        "\n",
        "  def append(self, value):\n",
        "    new_node = Node(value)\n",
        "    if self.length == 0:\n",
        "      self.head = new_node\n",
        "      self.tail = new_node\n",
        "    else:\n",
        "      self.tail.next = new_node\n",
        "      self.tail = new_node\n",
        "\n",
        "    self.length +=1\n",
        "    return True\n",
        "\n",
        "  def pop(self):\n",
        "    if self.length == 0:\n",
        "      return None\n",
        "    temp = self.head\n",
        "    pre = self.head\n",
        "    if self.length == 1:\n",
        "      self.head = None\n",
        "      self.tail = None\n",
        "    else:\n",
        "      while(temp.next):\n",
        "        pre = temp\n",
        "        temp = temp.next\n",
        "      self.tail = pre\n",
        "      self.tail.next = None\n",
        "    self.length -= 1\n",
        "    return temp\n",
        "\n",
        "  def prepend(self, value):\n",
        "    new_node = Node(value)\n",
        "    temp=self.head\n",
        "    self.head = new_node\n",
        "    self.head.next = temp\n",
        "    self.length +=1\n",
        "    return True\n",
        "\n",
        "  def pop_first(self):\n",
        "\n",
        "    if self.length == 0:\n",
        "      return None\n",
        "    temp = self.head\n",
        "    if self.length == 1:\n",
        "      self.head = None\n",
        "      self.tail = None\n",
        "    else:\n",
        "      self.head = temp.next\n",
        "      temp.next = None\n",
        "    self.length -=1\n",
        "    return True\n",
        "\n",
        "  def get(self, index):\n",
        "    if index < 0 or index >= self.length:\n",
        "      return None\n",
        "    temp = self.head\n",
        "    for _ in range(index):\n",
        "      temp = temp.next\n",
        "    return temp\n",
        "\n",
        "  def set_value(self, index, value):\n",
        "    temp = self.get(index)\n",
        "    if temp is None:\n",
        "      return False\n",
        "    else:\n",
        "      temp.value = value\n",
        "      return True\n",
        "\n",
        "  def insert(self, index, value):\n",
        "    if index < 0 or index > self.length:\n",
        "      return False\n",
        "    if index == 0:\n",
        "      return self.prepend(value)\n",
        "    if index == self.length:\n",
        "      return self.append(value)\n",
        "\n",
        "    new_node = Node(value)\n",
        "    temp = self.get(index-1)\n",
        "    new_node.next= temp.next\n",
        "    temp.next = new_node\n",
        "    self.length +=1\n",
        "    return True\n",
        "\n",
        "  def remove(self, index):\n",
        "    if index < 0 or index >= self.length:\n",
        "      return None\n",
        "\n",
        "    if index == 0:\n",
        "      return self.pop_first()\n",
        "    if index == self.length-1:\n",
        "      return self.pop()\n",
        "\n",
        "    pre = self.get(index-1)\n",
        "    temp = pre.next\n",
        "    pre.next = temp.next\n",
        "    temp.next = None\n",
        "    self.length -=1\n",
        "\n",
        "    return temp\n",
        "\n",
        "  def reverse(self):\n",
        "\n",
        "    temp= self.head\n",
        "    self.head = self.tail\n",
        "    self.tail = temp\n",
        "\n",
        "    before = None\n",
        "\n",
        "    while temp is not None:\n",
        "\n",
        "      after = temp.next\n",
        "      temp.next = before\n",
        "      before = temp\n",
        "      temp = after\n"
      ]
    },
    {
      "cell_type": "code",
      "source": [
        "my_list = LinkedList(1)\n",
        "my_list.append(2)\n",
        "my_list.append(3)\n",
        "my_list.append(4)"
      ],
      "metadata": {
        "colab": {
          "base_uri": "https://localhost:8080/"
        },
        "id": "-8G8aheRDgLK",
        "outputId": "333363dc-1529-4648-8522-08fc1eb63bb0"
      },
      "execution_count": 2,
      "outputs": [
        {
          "output_type": "execute_result",
          "data": {
            "text/plain": [
              "True"
            ]
          },
          "metadata": {},
          "execution_count": 2
        }
      ]
    },
    {
      "cell_type": "code",
      "source": [
        "my_list.print_list()"
      ],
      "metadata": {
        "colab": {
          "base_uri": "https://localhost:8080/"
        },
        "id": "C0mgSfKyGeB5",
        "outputId": "20bc64a8-615e-4167-ae59-47483d10f0a5"
      },
      "execution_count": 3,
      "outputs": [
        {
          "output_type": "stream",
          "name": "stdout",
          "text": [
            "1\n",
            "2\n",
            "3\n",
            "4\n"
          ]
        }
      ]
    },
    {
      "cell_type": "code",
      "source": [
        "my_list.insert(0,0)"
      ],
      "metadata": {
        "colab": {
          "base_uri": "https://localhost:8080/"
        },
        "id": "61bAHiBieoeM",
        "outputId": "9165279c-2ace-46bf-9d11-7a975268b59e"
      },
      "execution_count": 4,
      "outputs": [
        {
          "output_type": "execute_result",
          "data": {
            "text/plain": [
              "True"
            ]
          },
          "metadata": {},
          "execution_count": 4
        }
      ]
    },
    {
      "cell_type": "code",
      "source": [
        "my_list.print_list()"
      ],
      "metadata": {
        "colab": {
          "base_uri": "https://localhost:8080/"
        },
        "id": "AUqRApi4e22A",
        "outputId": "d24f96c8-641e-4bbd-b3b8-cfc59331b09c"
      },
      "execution_count": 5,
      "outputs": [
        {
          "output_type": "stream",
          "name": "stdout",
          "text": [
            "0\n",
            "1\n",
            "2\n",
            "3\n",
            "4\n"
          ]
        }
      ]
    },
    {
      "cell_type": "code",
      "source": [
        "my_list.insert(5,5)"
      ],
      "metadata": {
        "colab": {
          "base_uri": "https://localhost:8080/"
        },
        "id": "nDK3uxUue8nB",
        "outputId": "a437b555-94fa-4d4b-cb01-e996957ef13e"
      },
      "execution_count": 6,
      "outputs": [
        {
          "output_type": "execute_result",
          "data": {
            "text/plain": [
              "True"
            ]
          },
          "metadata": {},
          "execution_count": 6
        }
      ]
    },
    {
      "cell_type": "code",
      "source": [
        "my_list.print_list()"
      ],
      "metadata": {
        "colab": {
          "base_uri": "https://localhost:8080/"
        },
        "id": "owJQEzmwfMBn",
        "outputId": "08528362-f87c-4eb2-fa35-86b15a6865ad"
      },
      "execution_count": 7,
      "outputs": [
        {
          "output_type": "stream",
          "name": "stdout",
          "text": [
            "0\n",
            "1\n",
            "2\n",
            "3\n",
            "4\n",
            "5\n"
          ]
        }
      ]
    },
    {
      "cell_type": "code",
      "source": [
        "my_list.reverse()"
      ],
      "metadata": {
        "id": "FUtpTPPbh8TV"
      },
      "execution_count": 8,
      "outputs": []
    },
    {
      "cell_type": "code",
      "source": [
        "my_list.print_list()"
      ],
      "metadata": {
        "colab": {
          "base_uri": "https://localhost:8080/"
        },
        "id": "B0dD4RCgiAe_",
        "outputId": "53451fd5-34d2-4e68-95fe-ef9b5d3888c1"
      },
      "execution_count": 9,
      "outputs": [
        {
          "output_type": "stream",
          "name": "stdout",
          "text": [
            "5\n",
            "4\n",
            "3\n",
            "2\n",
            "1\n",
            "0\n"
          ]
        }
      ]
    }
  ]
}